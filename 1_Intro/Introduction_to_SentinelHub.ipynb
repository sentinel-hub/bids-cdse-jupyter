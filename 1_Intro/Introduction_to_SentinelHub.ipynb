{
 "cells": [
  {
   "cell_type": "markdown",
   "metadata": {},
   "source": [
    "# How to access satellite imagery with Copernicus Data Space Ecosystem"
   ]
  },
  {
   "cell_type": "markdown",
   "metadata": {},
   "source": [
    "The Copernicus Data Space Ecosystem is\n",
    "- Largest EO data offering in the world, with discovery and download capabilities\n",
    "- A set of data processing tools to extract objective information and conduct public, private or commercial activities\n",
    "- A thriving ecosystem to offer data, services and applications from public, commercial and scientific service providers\n",
    "- A service to benefit institutional users, research, commercial sector as well as to every citizen of our planet\n",
    "\n",
    "## JupyterLab\n",
    "\n",
    "JupyterLab is an advanced interactive development environment (IDE) that offers a flexible and feature-rich interface for working with notebooks, code, and data. It allows users to organize their workspaces using a flexible layout system with panels, views, and tabs for various activities. Furthermore, it supports various document formats, including notebooks, text files, code files, and markdown files. With its modular and extensible architecture, JupyterLab enables customization through extensions, additional functionalities, and integration with external tools. It enhances the user experience with features like a file browser, command palette, debugger, and console, making it a versatile tool for interactive data exploration, analysis, and scientific computing.\n",
    "\n",
    "More information about the JupyterLab can be found in our [documentation](https://documentation.dataspace.copernicus.eu/Applications/JupyterHub.html).\n",
    "\n",
    "In this notebook, we will learn how to configure our profile, search for availability of imagery, and process, visualize and download the said imagery with JupyterLab.\n",
    "\n",
    "First, let us import all the important libraries"
   ]
  },
  {
   "cell_type": "code",
   "execution_count": null,
   "metadata": {},
   "outputs": [],
   "source": [
    "%reload_ext autoreload\n",
    "%autoreload 2\n",
    "%matplotlib inline"
   ]
  },
  {
   "cell_type": "code",
   "execution_count": null,
   "metadata": {},
   "outputs": [],
   "source": [
    "import getpass\n",
    "\n",
    "from sentinelhub import (\n",
    "    SHConfig,\n",
    "    CRS,\n",
    "    BBox,\n",
    "    DataCollection,\n",
    "    MimeType,\n",
    "    MosaickingOrder,\n",
    "    SentinelHubRequest,\n",
    "    bbox_to_dimensions,\n",
    "    SentinelHubCatalog,\n",
    ")\n",
    "\n",
    "# The following is not a package. It is a file utils.py which should be in the same folder as this notebook.\n",
    "from utils import plot_image"
   ]
  },
  {
   "cell_type": "markdown",
   "metadata": {},
   "source": [
    "### Credentials\n",
    "\n",
    "Credentials for Sentinel Hub services (`client_id` & `client_secret`) can be obtained by navigating to your [Dashboard](https://shapps.dataspace.copernicus.eu/dashboard/#/). In the User Settings you can create a new OAuth Client to generate these credentials. For more detailed instructions, visit the relevent [documentation page](https://documentation.dataspace.copernicus.eu/APIs/SentinelHub/Overview/Authentication.html).\n",
    "\n",
    "Now that you have your `client_id` & `client_secret`, it is recommended to configure a new profile in your Sentinel Hub Python package. Instructions on how to configure your Sentinel Hub Python package can be found [here](https://sentinelhub-py.readthedocs.io/en/latest/configure.html). Using these instructions you can create a profile specific to using the package for accessing Copernicus Data Space Ecosystem data collections. This is useful as changes to the the config class are usually only temporary in your notebook and by saving the configuration to your profile you won't need to generate new credentials or overwrite/change the default profile each time you rerun or write a new Jupyter Notebook. \n",
    "\n",
    "If you are a first time user of the Sentinel Hub Python package for Copernicus Data Space Ecosystem, you should create a profile specific to the Copernicus Data Space Ecosystem. You can do this in the following cell:"
   ]
  },
  {
   "cell_type": "code",
   "execution_count": null,
   "metadata": {},
   "outputs": [],
   "source": [
    "# Only run this cell if you have not created a configuration.\n",
    "\n",
    "config = SHConfig()\n",
    "config.sh_client_id = getpass.getpass(\"Enter your SentinelHub client id\")\n",
    "config.sh_client_secret = getpass.getpass(\"Enter your SentinelHub client secret\")\n",
    "config.sh_token_url = \"https://identity.dataspace.copernicus.eu/auth/realms/CDSE/protocol/openid-connect/token\"\n",
    "config.sh_base_url = \"https://sh.dataspace.copernicus.eu\"\n",
    "config.save(\"cdse\")"
   ]
  },
  {
   "cell_type": "markdown",
   "metadata": {},
   "source": [
    "However, if you have already configured a profile in Sentinel Hub Python for the Copernicus Data Space Ecosystem, then you can uncomment and run the below cell by entering the profile name as a string (which is `cdse` in our case, feel free to change this when you save your profile)."
   ]
  },
  {
   "cell_type": "code",
   "execution_count": null,
   "metadata": {},
   "outputs": [],
   "source": [
    "config = SHConfig(\"cdse\")"
   ]
  },
  {
   "cell_type": "markdown",
   "metadata": {},
   "source": [
    "### Catalog API\n",
    "\n",
    "[Catalog API](https://documentation.dataspace.copernicus.eu/APIs/SentinelHub/Catalog.html) is one of the services that allows custom data search options. It supports searches over all available data collections and provides the most information about each item in a collection. The implementation is based on STAC REST API specifications.\n",
    "\n",
    "More information about the service is available in:\n",
    "\n",
    "- [Documentation](https://documentation.dataspace.copernicus.eu/APIs/SentinelHub/Catalog.html)\n",
    "- [API definition](https://documentation.dataspace.copernicus.eu/APIs/SentinelHub/ApiReference.html#tag/catalog_core)"
   ]
  },
  {
   "cell_type": "markdown",
   "metadata": {},
   "source": [
    "To check Data Availability in the Catalog, initialize the Sentinel hub Catalog API"
   ]
  },
  {
   "cell_type": "code",
   "execution_count": null,
   "metadata": {},
   "outputs": [],
   "source": [
    "catalog = SentinelHubCatalog(config=config)\n",
    "\n",
    "catalog.get_info()"
   ]
  },
  {
   "cell_type": "markdown",
   "metadata": {},
   "source": [
    "Each data collection has its own catalog collection. The default collections are already listed in the info response. Information about all available collections, including user-defined BYOC and batch collections, can be obtained with the next example. We will try to display just the `id` of the collection."
   ]
  },
  {
   "cell_type": "code",
   "execution_count": null,
   "metadata": {},
   "outputs": [],
   "source": [
    "collections = catalog.get_collections()\n",
    "\n",
    "collection_ids = [collection['id'] for collection in collections]\n",
    "\n",
    "collection_ids"
   ]
  },
  {
   "cell_type": "markdown",
   "metadata": {},
   "source": [
    "#### Try it yourself!\n",
    "Could you try and obtain information about `title`, `description`, and `providers` of these data collections?"
   ]
  },
  {
   "cell_type": "code",
   "execution_count": null,
   "metadata": {},
   "outputs": [],
   "source": []
  },
  {
   "cell_type": "markdown",
   "metadata": {},
   "source": [
    "Information about a single collection can also be obtained as follows."
   ]
  },
  {
   "cell_type": "code",
   "execution_count": null,
   "metadata": {},
   "outputs": [],
   "source": [
    "catalog.get_collection(DataCollection.SENTINEL1_EW)"
   ]
  },
  {
   "cell_type": "markdown",
   "metadata": {},
   "source": [
    "### Search features in catalog collections"
   ]
  },
  {
   "cell_type": "markdown",
   "metadata": {},
   "source": [
    "For any more advanced search we can use the `SentinelHubCatalog.search()` method. The method always requires a data collection, time interval and a bounding box or a geometry. Additionally, we can define various STAC-based query filters which are described in documentation and API definition.\n",
    "\n",
    "In our case, we will filter all satellite tiles with more than 5% cloud coverage. To reduce the size of downloaded responses we will also filter fields that will be returned in the response."
   ]
  },
  {
   "cell_type": "code",
   "execution_count": null,
   "metadata": {},
   "outputs": [],
   "source": [
    "venice_bbox = BBox((12.203466,45.337158,12.483004,45.511132), crs=CRS.WGS84).transform(3035)            # Convert to 3035 to get crs with meters as units\n",
    "time_interval = \"2023-04-01\", \"2023-09-01\"\n",
    "\n",
    "search_iterator = catalog.search(\n",
    "    DataCollection.SENTINEL2_L2A.define_from(\"s2l2a\", service_url=config.sh_base_url),\n",
    "    bbox=venice_bbox,\n",
    "    time=time_interval,\n",
    "    filter=\"eo:cloud_cover < 5\",\n",
    "    fields={\"include\": [\"id\", \"properties.datetime\", \"properties.eo:cloud_cover\"], \"exclude\": []},\n",
    ")\n",
    "\n",
    "results = list(search_iterator)\n",
    "print(\"Total number of results:\", len(results))\n",
    "\n",
    "results"
   ]
  },
  {
   "cell_type": "markdown",
   "metadata": {},
   "source": [
    "## Process API\n",
    "The [Process API](https://documentation.dataspace.copernicus.eu/APIs/SentinelHub/Process.html) is an essential element in the Copernicus Data Space Ecosystem. It allows the generation of personalized visual representations of satellite data and enables users to process and analyze data in the cloud. The Process API and Catalog API are two of the multiple Application Programming Interfaces (APIs) offered by the Copernicus Data Space Ecosystem. \n",
    "\n",
    "With [Catalog API](https://documentation.dataspace.copernicus.eu/APIs/SentinelHub/Catalog.html) we were able to get information about all satellites tiles for a given bounding box and time interval. Let's see how we can use this information with [Process API](https://documentation.dataspace.copernicus.eu/APIs/SentinelHub/Process.html) to download data for all acquisitions. We can see that many timestamps differ only by a few seconds. That is because they are from tiles in the same orbit acquisition. Because of that, we want to join them together in a single timestamp.\n",
    "\n",
    "\n",
    "### Example 1: True color (TIF) on a specific date\n",
    "\n",
    "We build the request according to the [API Reference](https://documentation.dataspace.copernicus.eu/APIs/SentinelHub/ApiReference.html), using the `SentinelHubRequest` class. Each Process API request also needs an [evalscript](https://documentation.dataspace.copernicus.eu/APIs/SentinelHub/Evalscript/V3.html).\n",
    "\n",
    "\n",
    "The information that we specify in the `SentinelHubRequest` object is: \n",
    "\n",
    " * an evalscript,\n",
    " * a list of input data collections with time interval,\n",
    " * a format of the response,\n",
    " * a bounding box and it's size (size or resolution).\n"
   ]
  },
  {
   "cell_type": "markdown",
   "metadata": {},
   "source": [
    "#### Evalscript\n",
    "\n",
    "An evalscript (or \"custom script\") is a piece of Javascript code which defines how the satellite data shall be processed by Sentinel Hub and what values the service shall return. It is a required part of any [Process](https://documentation.dataspace.copernicus.eu/APIs/SentinelHub/Process.html), [Batch processing](https://documentation.dataspace.copernicus.eu/APIs/SentinelHub/Batch.html) or [OGC](https://documentation.dataspace.copernicus.eu/APIs/SentinelHub/OGC.html) request.\n",
    "\n",
    "In the [Evalscript](https://documentation.dataspace.copernicus.eu/APIs/SentinelHub/Evalscript.html) section you will find a technical documentation with detailed explanations of parameters and functions you can use in your evalscripts.\n",
    "\n",
    "For an `evalscript` you need to specify two functions (described in detail below):\n",
    "\n",
    "- `setup` - where you specify inputs and outputs.\n",
    "- `evaluatePixel` - which calculates the output values for each pixel.\n",
    "\n",
    "You can find multiple examples in the Sentinel Hub [Custom Scripts Repository](https://custom-scripts.sentinel-hub.com/custom-scripts/) for various applications.\n",
    "\n",
    "The evalscript in the example is used to select the appropriate bands. We return the RGB (B04, B03, B02) Sentinel-2 L2A bands."
   ]
  },
  {
   "cell_type": "code",
   "execution_count": null,
   "metadata": {},
   "outputs": [],
   "source": [
    "evalscript_true_color = \"\"\"\n",
    "    //VERSION=3\n",
    "\n",
    "    function setup() {\n",
    "        return {\n",
    "            input: [{\n",
    "                bands: [\"B02\", \"B03\", \"B04\"]\n",
    "            }],\n",
    "            output: {\n",
    "                bands: 3\n",
    "            }\n",
    "        };\n",
    "    }\n",
    "\n",
    "    function evaluatePixel(sample) {\n",
    "        return [sample.B04, sample.B03, sample.B02];\n",
    "    }\n",
    "\"\"\""
   ]
  },
  {
   "cell_type": "code",
   "execution_count": null,
   "metadata": {},
   "outputs": [],
   "source": [
    "request_true_color = SentinelHubRequest(\n",
    "    evalscript=evalscript_true_color,\n",
    "    input_data=[\n",
    "        SentinelHubRequest.input_data(\n",
    "            data_collection=DataCollection.SENTINEL2_L2A.define_from(\n",
    "                \"s2l2a\", service_url=config.sh_base_url\n",
    "            ),\n",
    "            time_interval=time_interval,\n",
    "            mosaicking_order=MosaickingOrder.MOST_RECENT,\n",
    "        )\n",
    "    ],\n",
    "    responses=[SentinelHubRequest.output_response(\"default\", MimeType.TIFF)],\n",
    "    bbox=venice_bbox,\n",
    "    resolution=(20,20),\n",
    "    config=config,\n",
    "    data_folder=\"./data\"\n",
    ")"
   ]
  },
  {
   "cell_type": "code",
   "execution_count": null,
   "metadata": {},
   "outputs": [],
   "source": [
    "plot_image(request_true_color.get_data(save_data=True)[0], factor=3.5 / 255, clip_range=(0, 1))"
   ]
  },
  {
   "cell_type": "markdown",
   "metadata": {},
   "source": [
    "#### Try it yourself!\n",
    "Can you also change the evalscript to create a False Colour Composite of the least cloudy image using Near Infrared (`B08`), Red (`B04`) and Green (`B03`) bands? You will have to run the request payload again after changing the evalscript.\n",
    "\n",
    "`Tip`: Try to change the mosaicking order to `LEAST_CC` in the request payload."
   ]
  },
  {
   "cell_type": "markdown",
   "metadata": {},
   "source": [
    "<details><summary>Click here to see the solution</summary>\n",
    "\n",
    "```{js}\n",
    "evalscript_false_color = \"\"\"\n",
    "    //VERSION=3\n",
    "\n",
    "    function setup() {\n",
    "        return {\n",
    "            input: [{\n",
    "                bands: [\"B03\", \"B04\", \"B08\"]\n",
    "            }],\n",
    "            output: {\n",
    "                bands: 3\n",
    "            }\n",
    "        };\n",
    "    }\n",
    "\n",
    "    function evaluatePixel(sample) {\n",
    "        return [sample.B08, sample.B04, sample.B03];\n",
    "    }\n",
    "\"\"\"\n",
    "request_false_color = SentinelHubRequest(\n",
    "    evalscript=evalscript_false_color,\n",
    "    input_data=[\n",
    "        SentinelHubRequest.input_data(\n",
    "            data_collection=DataCollection.SENTINEL2_L2A.define_from(\n",
    "                \"s2l2a\", service_url=config.sh_base_url\n",
    "            ),\n",
    "            time_interval=time_interval,\n",
    "            mosaicking_order=MosaickingOrder.LEAST_CC,\n",
    "        )\n",
    "    ],\n",
    "    responses=[SentinelHubRequest.output_response(\"default\", MimeType.TIFF)],\n",
    "    bbox=venice_bbox,\n",
    "    resolution=(20,20),\n",
    "    config=config,\n",
    "    data_folder=\"./data\"\n",
    ")\n",
    "\n",
    "plot_image(request_false_color.get_data(save_data=True)[0], factor=3.5 / 255, clip_range=(0, 1))\n",
    "```\n",
    "\n",
    "</details>"
   ]
  },
  {
   "cell_type": "code",
   "execution_count": null,
   "metadata": {},
   "outputs": [],
   "source": []
  },
  {
   "cell_type": "markdown",
   "metadata": {},
   "source": [
    "### Visualizing Remote Sensing Indices\n",
    "\n",
    "There are many ways to analyse satellite imagery and one of those ways is to visaualise an index obtained by combining data from two or more bands. Let us try to visualize a Normalized Difference Water Index by combining the Blue (`B03`) and the NIR (`B08`) bands of Sentinel-2 L2A imagery. The following evalscript demonstrates visualizing water bodies in blue and displaying the land in true colour (RGB). You can find this [script](https://custom-scripts.sentinel-hub.com/sentinel-2/ndwi/) with a few modifications for better visualisation in the [Custom Scripts Repository](https://custom-scripts.sentinel-hub.com/custom-scripts/)."
   ]
  },
  {
   "cell_type": "code",
   "execution_count": null,
   "metadata": {},
   "outputs": [],
   "source": [
    "evalscript_ndwi = \"\"\"\n",
    "//VERSION=3\n",
    "\n",
    "function setup() {\n",
    "  return {\n",
    "    input: [\"B02\",\"B03\",\"B04\",\"B08\", \"dataMask\"],\n",
    "    output: [\n",
    "      { bands: 3 }\n",
    "    ]\n",
    "  };\n",
    "}\n",
    "\n",
    "function evaluatePixel(samples) {\n",
    "  let ndwi = (samples.B03-samples.B08)/(samples.B03+samples.B08);\n",
    "  if (ndwi > 0){ \n",
    "    return[0,0,0.5];\n",
    "    }\n",
    "  else{\n",
    "    return[2.5*samples.B04,2.5*samples.B03,2.5*samples.B02];\n",
    "  }\n",
    "}\n",
    "\"\"\""
   ]
  },
  {
   "cell_type": "code",
   "execution_count": null,
   "metadata": {},
   "outputs": [],
   "source": [
    "request_index = SentinelHubRequest(\n",
    "    evalscript=evalscript_ndwi,\n",
    "    input_data=[\n",
    "        SentinelHubRequest.input_data(\n",
    "            data_collection=DataCollection.SENTINEL2_L2A.define_from(\n",
    "                \"s2l2a\", service_url=config.sh_base_url\n",
    "            ),\n",
    "            time_interval=time_interval,\n",
    "            mosaicking_order=MosaickingOrder.LEAST_CC,\n",
    "        )\n",
    "    ],\n",
    "    responses=[SentinelHubRequest.output_response(\"default\", MimeType.TIFF)],\n",
    "    bbox=croatia_bbox,\n",
    "    resolution=(50,50),\n",
    "    config=config,\n",
    "    data_folder=\"./data\"\n",
    ")"
   ]
  },
  {
   "cell_type": "code",
   "execution_count": null,
   "metadata": {},
   "outputs": [],
   "source": [
    "plot_image(request_index.get_data(save_data=True)[0], factor=3.5 / 255, clip_range=(0, 1))"
   ]
  },
  {
   "cell_type": "markdown",
   "metadata": {},
   "source": [
    "#### Try it yourself!\n",
    "Change the location to one with more vegetation (Example location: Mix of forest and agricultural fields in Austria `[16.106159,47.849928,16.238021,47.938325]`) and create a visualization showing the [Normalized Difference Vegetation Index (NDVI)](https://custom-scripts.sentinel-hub.com/sentinel-2/ndvi/) which combines the NIR (`B08`) and Red (`B04`) bands of Sentinel-2 imagery.\n",
    "\n",
    "$$ NDVI = {B08 - B04 \\over B08 + B04} $$"
   ]
  },
  {
   "cell_type": "markdown",
   "metadata": {},
   "source": [
    "<details><summary>Click here to see the solution</summary>\n",
    "\n",
    "``` {js}\n",
    "bbox = BBox((16.106159,47.849928,16.238021,47.938325), crs=CRS.WGS84).transform(3035)            # Convert to 3035 to get crs with meters as units\n",
    "time_interval = \"2023-04-01\", \"2023-09-01\"\n",
    "\n",
    "evalscript_ndvi = \"\"\"\n",
    "//VERSION=3\n",
    "\n",
    "function setup() {\n",
    "  return {\n",
    "    input: [\"B08\",\"B04\", \"dataMask\"],\n",
    "    output: [\n",
    "      { id:\"default\", bands: 4}\n",
    "    ]\n",
    "  };\n",
    "}\n",
    "\n",
    "function evaluatePixel(samples) {\n",
    "  let index = (samples.B08-samples.B04)/(samples.B08+samples.B04);\n",
    "\n",
    "  return [index, index, index, samples.dataMask];\n",
    "}\n",
    "\"\"\"\n",
    "\n",
    "request_ndvi = SentinelHubRequest(\n",
    "    evalscript=evalscript_ndvi,\n",
    "    input_data=[\n",
    "        SentinelHubRequest.input_data(\n",
    "            data_collection=DataCollection.SENTINEL2_L2A.define_from(\n",
    "                \"s2l2a\", service_url=config.sh_base_url\n",
    "            ),\n",
    "            time_interval=time_interval,\n",
    "            mosaicking_order=MosaickingOrder.LEAST_CC,\n",
    "        )\n",
    "    ],\n",
    "    responses=[SentinelHubRequest.output_response(\"default\", MimeType.TIFF)],\n",
    "    bbox=bbox,\n",
    "    resolution=(10,10),\n",
    "    config=config,\n",
    "    data_folder=\"./data\"\n",
    ")\n",
    "\n",
    "plot_image(request_ndvi.get_data(save_data=True)[0], factor=1 / 255, clip_range=(0, 1))\n",
    "```\n",
    "\n",
    "</details>"
   ]
  },
  {
   "cell_type": "code",
   "execution_count": null,
   "metadata": {},
   "outputs": [],
   "source": []
  },
  {
   "cell_type": "markdown",
   "metadata": {},
   "source": [
    "## Summary\n",
    "\n",
    "In this Jupyter notebook, we learnt to\n",
    "\n",
    "- Configure your profile with Sentinel Hub Credentials\n",
    "- Check if the data for our AOI and TOI is available with the Catalog API\n",
    "- Create simple evalscripts that can be used to process and visualize (RGB Composite and Remote Sensing Indices) the data\n",
    "- Request this data using the Process API\n",
    "\n",
    "Moving forward, we will look at slightly more complicated evalscripts for well defined use cases.\n"
   ]
  }
 ],
 "metadata": {
  "kernelspec": {
   "display_name": "Python 3",
   "language": "python",
   "name": "python3"
  },
  "language_info": {
   "codemirror_mode": {
    "name": "ipython",
    "version": 3
   },
   "file_extension": ".py",
   "mimetype": "text/x-python",
   "name": "python",
   "nbconvert_exporter": "python",
   "pygments_lexer": "ipython3",
   "version": "3.11.2"
  }
 },
 "nbformat": 4,
 "nbformat_minor": 2
}
